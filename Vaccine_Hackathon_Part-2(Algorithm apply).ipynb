{
 "cells": [
  {
   "cell_type": "code",
   "execution_count": 1,
   "id": "1ffb18ab",
   "metadata": {},
   "outputs": [],
   "source": [
    "# used for manipulating directory paths\n",
    "import os\n",
    "\n",
    "# Scientific and vector computation for python\n",
    "import numpy as np\n",
    "import pandas as pd\n",
    "\n",
    "# Plotting library\n",
    "from matplotlib import pyplot as plt\n",
    "from mpl_toolkits.mplot3d import Axes3D  # needed to plot 3-D surfaces\n",
    "import seaborn as sns\n",
    "from sklearn.metrics import roc_auc_score\n",
    "\n",
    "# tells matplotlib to embed plots within the notebook\n",
    "%matplotlib inline"
   ]
  },
  {
   "cell_type": "code",
   "execution_count": 2,
   "id": "f6abd04d",
   "metadata": {},
   "outputs": [
    {
     "data": {
      "text/html": [
       "<div>\n",
       "<style scoped>\n",
       "    .dataframe tbody tr th:only-of-type {\n",
       "        vertical-align: middle;\n",
       "    }\n",
       "\n",
       "    .dataframe tbody tr th {\n",
       "        vertical-align: top;\n",
       "    }\n",
       "\n",
       "    .dataframe thead th {\n",
       "        text-align: right;\n",
       "    }\n",
       "</style>\n",
       "<table border=\"1\" class=\"dataframe\">\n",
       "  <thead>\n",
       "    <tr style=\"text-align: right;\">\n",
       "      <th></th>\n",
       "      <th>respondent_id</th>\n",
       "      <th>xyz_concern</th>\n",
       "      <th>xyz_knowledge</th>\n",
       "      <th>behavioral_antiviral_meds</th>\n",
       "      <th>behavioral_avoidance</th>\n",
       "      <th>behavioral_face_mask</th>\n",
       "      <th>behavioral_wash_hands</th>\n",
       "      <th>behavioral_large_gatherings</th>\n",
       "      <th>behavioral_outside_home</th>\n",
       "      <th>behavioral_touch_face</th>\n",
       "      <th>...</th>\n",
       "      <th>income_poverty</th>\n",
       "      <th>marital_status</th>\n",
       "      <th>rent_or_own</th>\n",
       "      <th>employment_status</th>\n",
       "      <th>hhs_geo_region</th>\n",
       "      <th>census_msa</th>\n",
       "      <th>household_adults</th>\n",
       "      <th>household_children</th>\n",
       "      <th>employment_industry</th>\n",
       "      <th>employment_occupation</th>\n",
       "    </tr>\n",
       "  </thead>\n",
       "  <tbody>\n",
       "    <tr>\n",
       "      <th>0</th>\n",
       "      <td>26707</td>\n",
       "      <td>2.0</td>\n",
       "      <td>2.0</td>\n",
       "      <td>0.0</td>\n",
       "      <td>1.0</td>\n",
       "      <td>0.0</td>\n",
       "      <td>1.0</td>\n",
       "      <td>1.0</td>\n",
       "      <td>0.0</td>\n",
       "      <td>1.0</td>\n",
       "      <td>...</td>\n",
       "      <td>&gt; $75,000</td>\n",
       "      <td>Not Married</td>\n",
       "      <td>Rent</td>\n",
       "      <td>Employed</td>\n",
       "      <td>mlyzmhmf</td>\n",
       "      <td>MSA, Not Principle  City</td>\n",
       "      <td>1.0</td>\n",
       "      <td>0.0</td>\n",
       "      <td>atmlpfrs</td>\n",
       "      <td>hfxkjkmi</td>\n",
       "    </tr>\n",
       "    <tr>\n",
       "      <th>1</th>\n",
       "      <td>26708</td>\n",
       "      <td>1.0</td>\n",
       "      <td>1.0</td>\n",
       "      <td>0.0</td>\n",
       "      <td>0.0</td>\n",
       "      <td>0.0</td>\n",
       "      <td>0.0</td>\n",
       "      <td>0.0</td>\n",
       "      <td>0.0</td>\n",
       "      <td>0.0</td>\n",
       "      <td>...</td>\n",
       "      <td>Below Poverty</td>\n",
       "      <td>Not Married</td>\n",
       "      <td>Rent</td>\n",
       "      <td>Employed</td>\n",
       "      <td>bhuqouqj</td>\n",
       "      <td>Non-MSA</td>\n",
       "      <td>3.0</td>\n",
       "      <td>0.0</td>\n",
       "      <td>atmlpfrs</td>\n",
       "      <td>xqwwgdyp</td>\n",
       "    </tr>\n",
       "    <tr>\n",
       "      <th>2</th>\n",
       "      <td>26709</td>\n",
       "      <td>2.0</td>\n",
       "      <td>2.0</td>\n",
       "      <td>0.0</td>\n",
       "      <td>0.0</td>\n",
       "      <td>1.0</td>\n",
       "      <td>1.0</td>\n",
       "      <td>1.0</td>\n",
       "      <td>1.0</td>\n",
       "      <td>1.0</td>\n",
       "      <td>...</td>\n",
       "      <td>&gt; $75,000</td>\n",
       "      <td>Married</td>\n",
       "      <td>Own</td>\n",
       "      <td>Employed</td>\n",
       "      <td>lrircsnp</td>\n",
       "      <td>Non-MSA</td>\n",
       "      <td>1.0</td>\n",
       "      <td>0.0</td>\n",
       "      <td>nduyfdeo</td>\n",
       "      <td>pvmttkik</td>\n",
       "    </tr>\n",
       "    <tr>\n",
       "      <th>3</th>\n",
       "      <td>26710</td>\n",
       "      <td>1.0</td>\n",
       "      <td>1.0</td>\n",
       "      <td>0.0</td>\n",
       "      <td>0.0</td>\n",
       "      <td>0.0</td>\n",
       "      <td>0.0</td>\n",
       "      <td>0.0</td>\n",
       "      <td>0.0</td>\n",
       "      <td>0.0</td>\n",
       "      <td>...</td>\n",
       "      <td>&lt;= $75,000, Above Poverty</td>\n",
       "      <td>Married</td>\n",
       "      <td>Own</td>\n",
       "      <td>Not in Labor Force</td>\n",
       "      <td>lrircsnp</td>\n",
       "      <td>MSA, Not Principle  City</td>\n",
       "      <td>1.0</td>\n",
       "      <td>0.0</td>\n",
       "      <td>NaN</td>\n",
       "      <td>NaN</td>\n",
       "    </tr>\n",
       "    <tr>\n",
       "      <th>4</th>\n",
       "      <td>26711</td>\n",
       "      <td>3.0</td>\n",
       "      <td>1.0</td>\n",
       "      <td>1.0</td>\n",
       "      <td>1.0</td>\n",
       "      <td>0.0</td>\n",
       "      <td>1.0</td>\n",
       "      <td>1.0</td>\n",
       "      <td>1.0</td>\n",
       "      <td>1.0</td>\n",
       "      <td>...</td>\n",
       "      <td>&lt;= $75,000, Above Poverty</td>\n",
       "      <td>Not Married</td>\n",
       "      <td>Own</td>\n",
       "      <td>Employed</td>\n",
       "      <td>lzgpxyit</td>\n",
       "      <td>Non-MSA</td>\n",
       "      <td>0.0</td>\n",
       "      <td>1.0</td>\n",
       "      <td>fcxhlnwr</td>\n",
       "      <td>mxkfnird</td>\n",
       "    </tr>\n",
       "  </tbody>\n",
       "</table>\n",
       "<p>5 rows × 36 columns</p>\n",
       "</div>"
      ],
      "text/plain": [
       "   respondent_id  xyz_concern  xyz_knowledge  behavioral_antiviral_meds  \\\n",
       "0          26707          2.0            2.0                        0.0   \n",
       "1          26708          1.0            1.0                        0.0   \n",
       "2          26709          2.0            2.0                        0.0   \n",
       "3          26710          1.0            1.0                        0.0   \n",
       "4          26711          3.0            1.0                        1.0   \n",
       "\n",
       "   behavioral_avoidance  behavioral_face_mask  behavioral_wash_hands  \\\n",
       "0                   1.0                   0.0                    1.0   \n",
       "1                   0.0                   0.0                    0.0   \n",
       "2                   0.0                   1.0                    1.0   \n",
       "3                   0.0                   0.0                    0.0   \n",
       "4                   1.0                   0.0                    1.0   \n",
       "\n",
       "   behavioral_large_gatherings  behavioral_outside_home  \\\n",
       "0                          1.0                      0.0   \n",
       "1                          0.0                      0.0   \n",
       "2                          1.0                      1.0   \n",
       "3                          0.0                      0.0   \n",
       "4                          1.0                      1.0   \n",
       "\n",
       "   behavioral_touch_face  ...             income_poverty  marital_status  \\\n",
       "0                    1.0  ...                  > $75,000     Not Married   \n",
       "1                    0.0  ...              Below Poverty     Not Married   \n",
       "2                    1.0  ...                  > $75,000         Married   \n",
       "3                    0.0  ...  <= $75,000, Above Poverty         Married   \n",
       "4                    1.0  ...  <= $75,000, Above Poverty     Not Married   \n",
       "\n",
       "   rent_or_own   employment_status  hhs_geo_region                census_msa  \\\n",
       "0         Rent            Employed        mlyzmhmf  MSA, Not Principle  City   \n",
       "1         Rent            Employed        bhuqouqj                   Non-MSA   \n",
       "2          Own            Employed        lrircsnp                   Non-MSA   \n",
       "3          Own  Not in Labor Force        lrircsnp  MSA, Not Principle  City   \n",
       "4          Own            Employed        lzgpxyit                   Non-MSA   \n",
       "\n",
       "   household_adults  household_children  employment_industry  \\\n",
       "0               1.0                 0.0             atmlpfrs   \n",
       "1               3.0                 0.0             atmlpfrs   \n",
       "2               1.0                 0.0             nduyfdeo   \n",
       "3               1.0                 0.0                  NaN   \n",
       "4               0.0                 1.0             fcxhlnwr   \n",
       "\n",
       "   employment_occupation  \n",
       "0               hfxkjkmi  \n",
       "1               xqwwgdyp  \n",
       "2               pvmttkik  \n",
       "3                    NaN  \n",
       "4               mxkfnird  \n",
       "\n",
       "[5 rows x 36 columns]"
      ]
     },
     "execution_count": 2,
     "metadata": {},
     "output_type": "execute_result"
    }
   ],
   "source": [
    "vaccine_df_test = pd.read_csv(os.path.join('test_set_features.csv'), delimiter=',')\n",
    "vaccine_df_test.head()"
   ]
  },
  {
   "cell_type": "code",
   "execution_count": 3,
   "id": "2a7ceba6",
   "metadata": {},
   "outputs": [
    {
     "data": {
      "text/plain": [
       "(26708, 36)"
      ]
     },
     "execution_count": 3,
     "metadata": {},
     "output_type": "execute_result"
    }
   ],
   "source": [
    "vaccine_df_test.shape"
   ]
  },
  {
   "cell_type": "code",
   "execution_count": 4,
   "id": "8bf8cb2e",
   "metadata": {},
   "outputs": [
    {
     "data": {
      "text/plain": [
       "respondent_id                      0\n",
       "xyz_concern                       85\n",
       "xyz_knowledge                    122\n",
       "behavioral_antiviral_meds         79\n",
       "behavioral_avoidance             213\n",
       "behavioral_face_mask              19\n",
       "behavioral_wash_hands             40\n",
       "behavioral_large_gatherings       72\n",
       "behavioral_outside_home           82\n",
       "behavioral_touch_face            128\n",
       "doctor_recc_xyz                 2160\n",
       "doctor_recc_seasonal            2160\n",
       "chronic_med_condition            932\n",
       "child_under_6_months             813\n",
       "health_worker                    789\n",
       "health_insurance               12228\n",
       "opinion_xyz_vacc_effective       398\n",
       "opinion_xyz_risk                 380\n",
       "opinion_xyz_sick_from_vacc       375\n",
       "opinion_seas_vacc_effective      452\n",
       "opinion_seas_risk                499\n",
       "opinion_seas_sick_from_vacc      521\n",
       "age_group                          0\n",
       "education                       1407\n",
       "race                               0\n",
       "sex                                0\n",
       "income_poverty                  4497\n",
       "marital_status                  1442\n",
       "rent_or_own                     2036\n",
       "employment_status               1471\n",
       "hhs_geo_region                     0\n",
       "census_msa                         0\n",
       "household_adults                 225\n",
       "household_children               225\n",
       "employment_industry            13275\n",
       "employment_occupation          13426\n",
       "dtype: int64"
      ]
     },
     "execution_count": 4,
     "metadata": {},
     "output_type": "execute_result"
    }
   ],
   "source": [
    "vaccine_df_test.isna().sum()"
   ]
  },
  {
   "cell_type": "code",
   "execution_count": 5,
   "id": "7f3e4642",
   "metadata": {},
   "outputs": [
    {
     "data": {
      "text/plain": [
       "respondent_id                      0\n",
       "xyz_concern                       85\n",
       "xyz_knowledge                    122\n",
       "behavioral_antiviral_meds         79\n",
       "behavioral_avoidance             213\n",
       "behavioral_face_mask              19\n",
       "behavioral_wash_hands             40\n",
       "behavioral_large_gatherings       72\n",
       "behavioral_outside_home           82\n",
       "behavioral_touch_face            128\n",
       "doctor_recc_xyz                 2160\n",
       "doctor_recc_seasonal            2160\n",
       "chronic_med_condition            932\n",
       "child_under_6_months             813\n",
       "health_worker                    789\n",
       "health_insurance               12228\n",
       "opinion_xyz_vacc_effective       398\n",
       "opinion_xyz_risk                 380\n",
       "opinion_xyz_sick_from_vacc       375\n",
       "opinion_seas_vacc_effective      452\n",
       "opinion_seas_risk                499\n",
       "opinion_seas_sick_from_vacc      521\n",
       "age_group                          0\n",
       "education                       1407\n",
       "race                               0\n",
       "sex                                0\n",
       "income_poverty                  4497\n",
       "marital_status                  1442\n",
       "rent_or_own                     2036\n",
       "employment_status               1471\n",
       "hhs_geo_region                     0\n",
       "census_msa                         0\n",
       "household_adults                 225\n",
       "household_children               225\n",
       "employment_industry            13275\n",
       "employment_occupation          13426\n",
       "dtype: int64"
      ]
     },
     "execution_count": 5,
     "metadata": {},
     "output_type": "execute_result"
    }
   ],
   "source": [
    "vaccine_df_test.isna().sum()"
   ]
  },
  {
   "cell_type": "code",
   "execution_count": 6,
   "id": "88e0e9e0",
   "metadata": {},
   "outputs": [],
   "source": [
    "def impute_health_ins(cols):\n",
    "    health=cols[0]\n",
    "    if pd.isna(health):\n",
    "        return 1\n",
    "    else:\n",
    "        return health\n",
    "    \n",
    "\n",
    "vaccine_df_test['health_insurance'] = vaccine_df_test[['health_insurance']].apply(impute_health_ins,axis=1)"
   ]
  },
  {
   "cell_type": "code",
   "execution_count": 7,
   "id": "667d374a",
   "metadata": {},
   "outputs": [
    {
     "data": {
      "text/plain": [
       "array(['35 - 44 Years', '18 - 34 Years', '55 - 64 Years', '65+ Years',\n",
       "       '45 - 54 Years'], dtype=object)"
      ]
     },
     "execution_count": 7,
     "metadata": {},
     "output_type": "execute_result"
    }
   ],
   "source": [
    "vaccine_df_test['age_group'].unique()"
   ]
  },
  {
   "cell_type": "code",
   "execution_count": 8,
   "id": "1ce4f22f",
   "metadata": {},
   "outputs": [],
   "source": [
    "from sklearn.preprocessing import LabelEncoder\n",
    "label_encoder = LabelEncoder()\n",
    "\n",
    "vaccine_df_test['age_group'] = label_encoder.fit_transform(vaccine_df_test['age_group'])\n",
    "vaccine_df_test['employment_status'] = label_encoder.fit_transform(vaccine_df_test['employment_status'])"
   ]
  },
  {
   "cell_type": "code",
   "execution_count": 9,
   "id": "df9c1a53",
   "metadata": {},
   "outputs": [
    {
     "ename": "NameError",
     "evalue": "name 'vaccine_df' is not defined",
     "output_type": "error",
     "traceback": [
      "\u001b[1;31m---------------------------------------------------------------------------\u001b[0m",
      "\u001b[1;31mNameError\u001b[0m                                 Traceback (most recent call last)",
      "Input \u001b[1;32mIn [9]\u001b[0m, in \u001b[0;36m<cell line: 1>\u001b[1;34m()\u001b[0m\n\u001b[1;32m----> 1\u001b[0m \u001b[43mvaccine_df\u001b[49m[\u001b[38;5;124m'\u001b[39m\u001b[38;5;124mage_group\u001b[39m\u001b[38;5;124m'\u001b[39m]\u001b[38;5;241m.\u001b[39munique()\n",
      "\u001b[1;31mNameError\u001b[0m: name 'vaccine_df' is not defined"
     ]
    }
   ],
   "source": [
    "vaccine_df['age_group'].unique()"
   ]
  },
  {
   "cell_type": "code",
   "execution_count": null,
   "id": "3552a384",
   "metadata": {},
   "outputs": [],
   "source": [
    "def impute_emp_stat(cols):\n",
    "    emp=cols[0]\n",
    "    age=cols[1]\n",
    "    if pd.isna(emp):\n",
    "        if age==0:\n",
    "            return 1\n",
    "        else:\n",
    "            return 0\n",
    "    else:\n",
    "        return age\n",
    "    \n",
    "\n",
    "vaccine_df_test['employment_status'] = vaccine_df_test[['employment_status','age_group']].apply(impute_emp_stat,axis=1)"
   ]
  },
  {
   "cell_type": "code",
   "execution_count": null,
   "id": "828f7271",
   "metadata": {},
   "outputs": [],
   "source": [
    "vaccine_df_test.drop(['employment_occupation','employment_industry'], axis=1,inplace=True)"
   ]
  },
  {
   "cell_type": "code",
   "execution_count": null,
   "id": "aac39222",
   "metadata": {},
   "outputs": [],
   "source": [
    "sns.heatmap(vaccine_df_test.isna(),yticklabels=False,cbar=False,cmap='viridis')"
   ]
  },
  {
   "cell_type": "code",
   "execution_count": null,
   "id": "46ca9a31",
   "metadata": {},
   "outputs": [],
   "source": [
    "vaccine_df_test['xyz_concern'] = vaccine_df_test['xyz_concern'].fillna(vaccine_df_test['xyz_concern'].mode()[0])\n",
    "vaccine_df_test['xyz_knowledge'] = vaccine_df_test['xyz_knowledge'].fillna(vaccine_df_test['xyz_knowledge'].mode()[0])\n",
    "vaccine_df_test['behavioral_antiviral_meds'] = vaccine_df_test['behavioral_antiviral_meds'].fillna(vaccine_df_test['behavioral_antiviral_meds'].mode()[0])\n",
    "vaccine_df_test['behavioral_avoidance'] = vaccine_df_test['behavioral_avoidance'].fillna(vaccine_df_test['behavioral_avoidance'].mode()[0])\n",
    "vaccine_df_test['behavioral_face_mask'] = vaccine_df_test['behavioral_face_mask'].fillna(vaccine_df_test['behavioral_face_mask'].mode()[0])\n",
    "vaccine_df_test['behavioral_wash_hands'] = vaccine_df_test['behavioral_wash_hands'].fillna(vaccine_df_test['behavioral_wash_hands'].mode()[0])\n",
    "vaccine_df_test['behavioral_large_gatherings'] = vaccine_df_test['behavioral_large_gatherings'].fillna(vaccine_df_test['behavioral_large_gatherings'].mode()[0])\n",
    "vaccine_df_test['behavioral_outside_home'] = vaccine_df_test['behavioral_outside_home'].fillna(vaccine_df_test['behavioral_outside_home'].mode()[0])\n",
    "vaccine_df_test['behavioral_touch_face'] = vaccine_df_test['behavioral_touch_face'].fillna(vaccine_df_test['behavioral_touch_face'].mode()[0])\n",
    "vaccine_df_test['doctor_recc_xyz'] = vaccine_df_test['doctor_recc_xyz'].fillna(vaccine_df_test['doctor_recc_xyz'].mode()[0])\n",
    "vaccine_df_test['doctor_recc_seasonal'] = vaccine_df_test['doctor_recc_seasonal'].fillna(vaccine_df_test['doctor_recc_seasonal'].mode()[0])\n",
    "vaccine_df_test['chronic_med_condition'] = vaccine_df_test['chronic_med_condition'].fillna(vaccine_df_test['chronic_med_condition'].mode()[0])\n",
    "vaccine_df_test['child_under_6_months'] = vaccine_df_test['child_under_6_months'].fillna(vaccine_df_test['child_under_6_months'].mode()[0])\n",
    "vaccine_df_test['health_worker'] = vaccine_df_test['health_worker'].fillna(vaccine_df_test['health_worker'].mode()[0])\n",
    "vaccine_df_test['opinion_xyz_vacc_effective'] = vaccine_df_test['opinion_xyz_vacc_effective'].fillna(vaccine_df_test['opinion_xyz_vacc_effective'].mode()[0])\n",
    "vaccine_df_test['opinion_xyz_risk'] = vaccine_df_test['opinion_xyz_risk'].fillna(vaccine_df_test['opinion_xyz_risk'].mode()[0])\n",
    "vaccine_df_test['opinion_xyz_sick_from_vacc'] = vaccine_df_test['opinion_xyz_sick_from_vacc'].fillna(vaccine_df_test['opinion_xyz_sick_from_vacc'].mode()[0])\n",
    "vaccine_df_test['opinion_seas_vacc_effective'] = vaccine_df_test['opinion_seas_vacc_effective'].fillna(vaccine_df_test['opinion_seas_vacc_effective'].mode()[0])\n",
    "vaccine_df_test['opinion_seas_risk'] = vaccine_df_test['opinion_seas_risk'].fillna(vaccine_df_test['opinion_seas_risk'].mode()[0])\n",
    "vaccine_df_test['opinion_seas_sick_from_vacc'] = vaccine_df_test['opinion_seas_sick_from_vacc'].fillna(vaccine_df_test['opinion_seas_sick_from_vacc'].mode()[0])\n",
    "vaccine_df_test['education'] = vaccine_df_test['education'].fillna(vaccine_df_test['education'].mode()[0])\n",
    "vaccine_df_test['income_poverty'] = vaccine_df_test['income_poverty'].fillna(vaccine_df_test['income_poverty'].mode()[0])\n",
    "vaccine_df_test['marital_status'] = vaccine_df_test['marital_status'].fillna(vaccine_df_test['marital_status'].mode()[0])\n",
    "vaccine_df_test['rent_or_own'] = vaccine_df_test['rent_or_own'].fillna(vaccine_df_test['rent_or_own'].mode()[0])\n",
    "vaccine_df_test['household_adults'] = vaccine_df_test['household_adults'].fillna(vaccine_df_test['household_adults'].mode()[0])\n",
    "vaccine_df_test['household_children'] = vaccine_df_test['household_children'].fillna(vaccine_df_test['household_children'].mode()[0])\n"
   ]
  },
  {
   "cell_type": "code",
   "execution_count": null,
   "id": "88e1c90e",
   "metadata": {},
   "outputs": [],
   "source": [
    "sns.heatmap(vaccine_df_test.isna(),yticklabels=False,cbar=False,cmap='viridis')"
   ]
  },
  {
   "cell_type": "code",
   "execution_count": null,
   "id": "a3dd050d",
   "metadata": {},
   "outputs": [],
   "source": [
    "vaccine_df_test['education'] = label_encoder.fit_transform(vaccine_df_test['education'])\n",
    "vaccine_df_test['race'] = label_encoder.fit_transform(vaccine_df_test['race'])\n",
    "vaccine_df_test['sex'] = label_encoder.fit_transform(vaccine_df_test['sex'])\n",
    "vaccine_df_test['income_poverty'] = label_encoder.fit_transform(vaccine_df_test['income_poverty'])\n",
    "vaccine_df_test['marital_status'] = label_encoder.fit_transform(vaccine_df_test['marital_status'])\n",
    "vaccine_df_test['rent_or_own'] = label_encoder.fit_transform(vaccine_df_test['rent_or_own'])\n",
    "vaccine_df_test['hhs_geo_region'] = label_encoder.fit_transform(vaccine_df_test['hhs_geo_region'])\n",
    "vaccine_df_test['census_msa'] = label_encoder.fit_transform(vaccine_df_test['census_msa'])\n"
   ]
  },
  {
   "cell_type": "code",
   "execution_count": null,
   "id": "a7e4a413",
   "metadata": {
    "scrolled": true
   },
   "outputs": [],
   "source": [
    "vaccine_df_test.dtypes"
   ]
  },
  {
   "cell_type": "code",
   "execution_count": null,
   "id": "8ad09722",
   "metadata": {},
   "outputs": [],
   "source": [
    "vaccine_df_test.set_index(['respondent_id'])"
   ]
  },
  {
   "cell_type": "code",
   "execution_count": null,
   "id": "212d8fe2",
   "metadata": {},
   "outputs": [],
   "source": [
    "from sklearn.preprocessing import StandardScaler\n",
    "scaler=StandardScaler()\n",
    "vaccine_df__test_scaled=scaler.fit_transform(vaccine_df_test)"
   ]
  },
  {
   "cell_type": "code",
   "execution_count": null,
   "id": "559fcbce",
   "metadata": {},
   "outputs": [],
   "source": [
    "vaccine_df = pd.read_csv(os.path.join('clean_test_data.csv'), delimiter=',')\n",
    "vaccine_df.head()\n",
    "vaccine_df.columns"
   ]
  },
  {
   "cell_type": "code",
   "execution_count": null,
   "id": "259e83f3",
   "metadata": {},
   "outputs": [],
   "source": [
    "vaccine_df.drop(['Unnamed: 0'], axis=1,inplace=True)\n",
    "vaccine_df.set_index(['respondent_id'])\n"
   ]
  },
  {
   "cell_type": "code",
   "execution_count": null,
   "id": "54de2f58",
   "metadata": {},
   "outputs": [],
   "source": [
    "vaccine_df.isna().sum().sum()"
   ]
  },
  {
   "cell_type": "code",
   "execution_count": null,
   "id": "221127c0",
   "metadata": {},
   "outputs": [],
   "source": [
    "from sklearn.preprocessing import StandardScaler\n",
    "scaler=StandardScaler()\n",
    "vaccine_df_scaled=scaler.fit_transform(vaccine_df)"
   ]
  },
  {
   "cell_type": "code",
   "execution_count": null,
   "id": "9aa50e37",
   "metadata": {},
   "outputs": [],
   "source": [
    "target_df = pd.read_csv(os.path.join('training_set_labels.csv'), delimiter=',')\n",
    "target_df.head()"
   ]
  },
  {
   "cell_type": "code",
   "execution_count": null,
   "id": "cc7b40e1",
   "metadata": {},
   "outputs": [],
   "source": [
    "from sklearn.model_selection import train_test_split\n",
    "X1_train, X1_test, y1_train, y1_test =train_test_split(vaccine_df_scaled,target_df['xyz_vaccine'],test_size=.20, train_size=.80, random_state=15, shuffle=True, stratify=None)"
   ]
  },
  {
   "cell_type": "code",
   "execution_count": 83,
   "id": "f989f2ee",
   "metadata": {},
   "outputs": [],
   "source": [
    "from sklearn.model_selection import train_test_split\n",
    "X2_train, X2_test, y2_train, y2_test =train_test_split(vaccine_df_scaled,target_df['seasonal_vaccine'],test_size=.20, train_size=.80, random_state=15, shuffle=True, stratify=None)"
   ]
  },
  {
   "cell_type": "code",
   "execution_count": 84,
   "id": "349cd999",
   "metadata": {},
   "outputs": [
    {
     "data": {
      "text/plain": [
       "0.8370065472721842"
      ]
     },
     "execution_count": 84,
     "metadata": {},
     "output_type": "execute_result"
    }
   ],
   "source": [
    "from sklearn import ensemble\n",
    "model1 = ensemble.AdaBoostClassifier()\n",
    "model1.fit(X1_train,y1_train)\n",
    "predicted1 = model1.predict(X1_test)\n",
    "model1.predict_proba(X1_test)[:, 1]\n",
    "roc_auc_score(y1_test, model1.predict_proba(X1_test)[:, 1])\n"
   ]
  },
  {
   "cell_type": "code",
   "execution_count": 85,
   "id": "a1c77b50",
   "metadata": {},
   "outputs": [
    {
     "data": {
      "text/plain": [
       "0.857774609958084"
      ]
     },
     "execution_count": 85,
     "metadata": {},
     "output_type": "execute_result"
    }
   ],
   "source": [
    "from sklearn import ensemble\n",
    "model2 = ensemble.AdaBoostClassifier()\n",
    "model2.fit(X2_train,y2_train)\n",
    "predicted2 = model2.predict(X2_test)\n",
    "model2.predict_proba(X2_test)[:, 1]\n",
    "roc_auc_score(y2_test, model2.predict_proba(X2_test)[:, 1])\n"
   ]
  },
  {
   "cell_type": "code",
   "execution_count": 91,
   "id": "d4bc40d9",
   "metadata": {},
   "outputs": [
    {
     "data": {
      "text/html": [
       "<div>\n",
       "<style scoped>\n",
       "    .dataframe tbody tr th:only-of-type {\n",
       "        vertical-align: middle;\n",
       "    }\n",
       "\n",
       "    .dataframe tbody tr th {\n",
       "        vertical-align: top;\n",
       "    }\n",
       "\n",
       "    .dataframe thead th {\n",
       "        text-align: right;\n",
       "    }\n",
       "</style>\n",
       "<table border=\"1\" class=\"dataframe\">\n",
       "  <thead>\n",
       "    <tr style=\"text-align: right;\">\n",
       "      <th></th>\n",
       "      <th>xyz_vaccine</th>\n",
       "      <th>seasonal_vaccine</th>\n",
       "    </tr>\n",
       "    <tr>\n",
       "      <th>respondent_id</th>\n",
       "      <th></th>\n",
       "      <th></th>\n",
       "    </tr>\n",
       "  </thead>\n",
       "  <tbody>\n",
       "    <tr>\n",
       "      <th>26707</th>\n",
       "      <td>0.492029</td>\n",
       "      <td>0.495588</td>\n",
       "    </tr>\n",
       "    <tr>\n",
       "      <th>26708</th>\n",
       "      <td>0.487402</td>\n",
       "      <td>0.483667</td>\n",
       "    </tr>\n",
       "    <tr>\n",
       "      <th>26709</th>\n",
       "      <td>0.502686</td>\n",
       "      <td>0.506956</td>\n",
       "    </tr>\n",
       "    <tr>\n",
       "      <th>26710</th>\n",
       "      <td>0.500430</td>\n",
       "      <td>0.510150</td>\n",
       "    </tr>\n",
       "    <tr>\n",
       "      <th>26711</th>\n",
       "      <td>0.497900</td>\n",
       "      <td>0.499739</td>\n",
       "    </tr>\n",
       "    <tr>\n",
       "      <th>...</th>\n",
       "      <td>...</td>\n",
       "      <td>...</td>\n",
       "    </tr>\n",
       "    <tr>\n",
       "      <th>53410</th>\n",
       "      <td>0.491196</td>\n",
       "      <td>0.499835</td>\n",
       "    </tr>\n",
       "    <tr>\n",
       "      <th>53411</th>\n",
       "      <td>0.484814</td>\n",
       "      <td>0.494498</td>\n",
       "    </tr>\n",
       "    <tr>\n",
       "      <th>53412</th>\n",
       "      <td>0.483540</td>\n",
       "      <td>0.493800</td>\n",
       "    </tr>\n",
       "    <tr>\n",
       "      <th>53413</th>\n",
       "      <td>0.480242</td>\n",
       "      <td>0.495955</td>\n",
       "    </tr>\n",
       "    <tr>\n",
       "      <th>53414</th>\n",
       "      <td>0.494963</td>\n",
       "      <td>0.498941</td>\n",
       "    </tr>\n",
       "  </tbody>\n",
       "</table>\n",
       "<p>26708 rows × 2 columns</p>\n",
       "</div>"
      ],
      "text/plain": [
       "               xyz_vaccine  seasonal_vaccine\n",
       "respondent_id                               \n",
       "26707             0.492029          0.495588\n",
       "26708             0.487402          0.483667\n",
       "26709             0.502686          0.506956\n",
       "26710             0.500430          0.510150\n",
       "26711             0.497900          0.499739\n",
       "...                    ...               ...\n",
       "53410             0.491196          0.499835\n",
       "53411             0.484814          0.494498\n",
       "53412             0.483540          0.493800\n",
       "53413             0.480242          0.495955\n",
       "53414             0.494963          0.498941\n",
       "\n",
       "[26708 rows x 2 columns]"
      ]
     },
     "execution_count": 91,
     "metadata": {},
     "output_type": "execute_result"
    }
   ],
   "source": [
    "final_df=pd.DataFrame()\n",
    "final_df[\"respondent_id\"]=vaccine_df_test[\"respondent_id\"]\n",
    "final_df[\"xyz_vaccine\"] = model1.predict_proba(vaccine_df__test_scaled)[:, 1]\n",
    "final_df[\"seasonal_vaccine\"]=model2.predict_proba(vaccine_df__test_scaled)[:, 1]\n",
    "final_df.set_index([\"respondent_id\"])"
   ]
  },
  {
   "cell_type": "code",
   "execution_count": 95,
   "id": "d1822b32",
   "metadata": {},
   "outputs": [],
   "source": [
    "final_df.to_csv('Submission_Hackathon.csv',header=True, index=False)"
   ]
  },
  {
   "cell_type": "code",
   "execution_count": null,
   "id": "5ea2dbed",
   "metadata": {},
   "outputs": [],
   "source": []
  }
 ],
 "metadata": {
  "kernelspec": {
   "display_name": "Python 3 (ipykernel)",
   "language": "python",
   "name": "python3"
  },
  "language_info": {
   "codemirror_mode": {
    "name": "ipython",
    "version": 3
   },
   "file_extension": ".py",
   "mimetype": "text/x-python",
   "name": "python",
   "nbconvert_exporter": "python",
   "pygments_lexer": "ipython3",
   "version": "3.9.12"
  }
 },
 "nbformat": 4,
 "nbformat_minor": 5
}
